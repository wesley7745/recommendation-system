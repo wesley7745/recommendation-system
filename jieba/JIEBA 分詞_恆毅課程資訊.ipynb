{
 "cells": [
  {
   "cell_type": "markdown",
   "metadata": {},
   "source": [
    "## JIEBA 分詞_恆毅課程資訊"
   ]
  },
  {
   "cell_type": "markdown",
   "metadata": {},
   "source": [
    "匯入詞彙庫(dict.txt)"
   ]
  },
  {
   "cell_type": "code",
   "execution_count": 2,
   "metadata": {},
   "outputs": [],
   "source": [
    "import jieba\n",
    "\n",
    "jieba.set_dictionary('dict.txt')"
   ]
  },
  {
   "cell_type": "markdown",
   "metadata": {},
   "source": [
    "### 文本來源_恆毅爬蟲\n",
    "隨機取15個課程的課程資訊內容做為文本來源"
   ]
  },
  {
   "cell_type": "code",
   "execution_count": 3,
   "metadata": {},
   "outputs": [],
   "source": [
    "\n",
    "# 待分析的文本\n",
    "sentence1 = \"\"\"\n",
    "系統暨SQL Server架構簡介效能調校輔助工具介紹與使用：主要介紹SQLDiag的資料蒐集工具資料庫設計與效能之關係：包含邏輯資料庫設計如何撰寫效能良好的T-SQL語法索引設計對效能之影響鎖定與交易管理對效能之影響\n",
    "\"\"\"\n",
    "sentence2 = \"\"\"\n",
    "課程介紹介紹串流資料的處理使用Pub/Sub進行無伺服器的訊息傳遞Dataflow Streaming的功能高通量的BigQuery與BigTable Streaming的功能進階的BigQuery功能與效能優化\n",
    "\"\"\"\n",
    "sentence3 = \"\"\"\n",
    "課程介紹介紹何謂資料分析與AI對非結構化資料使用預訓練的機器學習模型API使用Notebook進行大資料分析正式環境下的機器學習管線使用SQL在BigQuery ML建立客製模型使用Vertex AI AutoML建立客製模型\n",
    "\"\"\"\n",
    "\n",
    "sentence4 = \"\"\"\n",
    "設計機器學習專案的資料擷取策略•      了解如何設計資料擷取解決方案，以定型機器學習專案中所使用的資料•      識別您的資料來源和格式•      選擇如何將資料提供給機器學習的工作流程•      設計資料擷取解決方案設計機器學習模型定型解決方案•      了解如何設計機器學習專案的模型定型解決方案•      識别機器學習工作•      選擇服務來定型模型•      選擇計算選項設計模型部署解決方案•      了解如何設計模型部署解決方案，以及已部署模型的需求如何影響定型模型的方式•      了解如何取用模型•      決定是否要將模型部署至即將或批次端點探索Azure Machine Learning工作區資源和資產•      身為數據科學家，您可以使用Azure Machine Learning來定型和管理機器學習模型。了解什麼是Azure Machine Learning，並熟悉其所有資源和資產•      建立Azure Machine Learning工作區•      識別資源和資產•      在工作區中定型模型探索工作區互動的開發人員工具•      了解如何與Azure Machine Learning工作區互動。您可以使用Azure Machine Learning工作室、Python SDK(v2)或Azure CLI(v2)•      Azure Machine Learning工作室•      Python軟體發展工具組(SDK)•      Azure命令列介面(CLI)微軟最新財報出爐，Azure營收成長50%！想要跨入雲端領域，取得最夯的Azure認證該如何準備?\n",
    "\"\"\"\n",
    "\n",
    "sentence5 = \"\"\"\n",
    "課程簡介使用SQL指令對資料進行分群與彙總階層式查詢使用正規表示式使用SQL指令分析資料進行Pivot/Unpivot操作使用SQL指令進行樣式比對使用SQL指定對資料進行Model操作\n",
    "\"\"\"\n",
    "\n",
    "sentence6 = \"\"\"\n",
    "資料庫設計概論：說明資料庫設計的重要性，以及何謂資料庫設計，如何設計資料庫設計方法論：資料庫設計的方式很多，了解各種可完成資料庫設計的方法使用者需求分析：由各種不同的方法，找出使用者真正的需求，並且記錄這些需求，至於如何找出使用者的需求，也有所謂的方法論資料庫的實體與屬性的轉換：如何將使用者需求轉換成實體以及屬性資料庫正規化：資料庫要透過正規化才能讓您的資料庫和大多數其他人設計的一樣，如何確定您的資料庫有沒有達到正規化，也有一定的方法論設計後的檢討與修改：資料庫設計後的結果必須核對是否符合情境，以及考慮效能方面問題案例分析：提供案例供學員分析參考，從參考其他人的設計結果更加融入資料庫設計的環境中\n",
    "\"\"\"\n",
    "\n",
    "sentence7 = \"\"\"\n",
    "ChatGPT簡介和基本原理ChatGPT x Excel公式的應用ChatGPT x Excel函數的應用ChatGPT x Excel功能的應用ChatGPT x Excel巨集的應用\n",
    "\"\"\"\n",
    "\n",
    "sentence8 = \"\"\"\n",
    "Power BI產品組合介紹Power BI Desktop的下載與安裝Power BI Desktop資料的匯入不同資料格式的匯入及合併彙整資料夾中多個相同格式的資料檔資料的清理、淨化、重塑及轉換資料表間的合併及附加處理查詢步驟的組態與調整查詢的複製、重複及參照資料錯誤的解決與處理Power BI Desktop資料建模與管理組態及優化資料表間的關聯性強化資料模型中的計算邏輯與格式DAX語法說明及各類函數的使用利用DAX公式建立資料表、量值及資料行，以豐富資料模型的處理Power BI Desktop範本檔的建立Power BI Desktop互動式視覺化報表的建立建立豐富的互動式視覺化儀表板多種視覺化效果(卡片、表格、量測計、矩陣、長條圖、組合圖 ......)的運用搭配介紹各項視覺化效果的細部組態視覺化效果的進階分析設定使用書籤串連數據解析及建立故事自訂視覺化效果的匯入及運用發佈Power BI Desktop報表至Power BI服務使用手機進行報表的互動式資料探索將製作的報表匯出至PDF\n",
    "\"\"\"\n",
    "\n",
    "sentence9 = \"\"\"\n",
    "1.AI下一世代：ChatGPT的崛起● 自然語言處理、自然語言理解和自然語言生成2.文字資料採集● 深入Python爬蟲Crawler框架和MongoDB非結構化資料庫建構● 收集巨量資料集，並進行文字資料清洗3.機器學習快速上手● 決策樹（Decision Tree）、隨機森林（Random Forest）和梯度下降（Gradient Descent）4.機率生成模型與分類模型● 貝氏分類（Bayesian Classification）在中文語意的應用場景5.關聯字詞模型訓練● 中文斷詞、斷句和詞彙Tokenization，實作Word2Vec、Doc2Vec、Ckip和Transformers6.文章分類模型訓練● 詞袋模型（Bag of Words）、TF-IDF詞頻分類法、Naive Bayes分類器和XGBoost分類器7.情感分析模型訓練● Fine-tuning HuggingFace上的模型於中文長短句的正負面機率● 使用Google Play Store留言，實作Keras/Tensorflow RNN情感程度模型訓練8.暱稱/姓名預測性別男女模型● 訓練中、英文姓名男女分類判別● 建立文字檔案以查找分群的標籤9.自然語言處理個案研究● 中文姓名預測API，以Python Flask為例● 自然語言文章分類在廣告標籤投放的應用● Facebook/Instagram留言探針時刻監測品牌危機● 留言情感分析在品牌策略操作上的處理● PTT新聞摘要與關聯10.如何微調ChatGPT模型，讓它認識你的產業知識?● 通用人工智慧 (Artificial General Intelligence)● 大型語言模型(LLM)需要準備的資料集指引，套用自己的資料集● 從ChatGPT 4前往Llama 2實作遷移式學習● 微調(Fine-tuning) OpenAI 模型，提供問答助手11.延伸大語言模型 (LLM) 擴增(RAG) 知識● 結合知識檢索的 OpenAI 生成技術● 提示詞工程(Prompt Engineering) 使用 LangChain 與 LlamaIndex● 事實查核避免 AI 幻想 (Fact-checking of ChatGPT and LLMs)● 部署地端大型語言模型 (GGUF)\n",
    "\"\"\"\n",
    "\n",
    "sentence10 = \"\"\"\n",
    "Python的環境安裝與IDE設定Python與物件導向Python與IPython NotebookPython與地圖的處理Python與地理位置的編碼Python與Excel的連結使用Scipy處理資料Python與Wiki的資料存取Python與背景狀態的更新Python與圖的處理Python與資料分析Python的ORM與SQL Server的連結Python與Apache Spark的結合\n",
    "\"\"\"\n",
    "\n",
    "sentence11 = \"\"\"\n",
    "簡介Spring Framework 5Spring 元件與IoC容器Spring BootDependency InjectionSpring AOP(Aspect Oriented Programming)Spring整合資料庫交易控管Spring Data JPASpring整合MongoDBSpring與訊息(Message)整合Spring Web MVCSpring SecuritySpring Batch\n",
    "\"\"\"\n",
    "\n",
    "sentence12 = \"\"\"\n",
    "Angular 7簡介Java EE 8簡介CDI(Context and Dependency Injection)EJB LiteJPA(Java Persistence API)Microservice與MicroProfileJSON-PJSON-BJAX-RS開發Restful Web ServiceMVC Pattern前端MVC框架與後台MVC框架比較TypeScript基礎Angular CLIAngular基礎Angular Data BindingAngular表單Angular呼叫Restful Web ServiceSecurity\n",
    "\"\"\"\n",
    "\n",
    "sentence13 = \"\"\"\n",
    "介紹Microsoft Power Platform的商業價值認識Power Platform所提供的基礎組件如何開始使用Power Apps來設計自訂的應用程式如何開始使用Power Automate來設計所需的自動化流程介紹Power BI的能力介紹Power Platform附加的解決方案Microsoft 365整合應用透過Excel 365產出QR Code圖片\n",
    "\"\"\"\n",
    "\n",
    "sentence14 = \"\"\"\n",
    "社群網路- Social Network爬蟲技術，採集、清洗、儲存、運算Python, MongoDB, PHP, Apache環境準備與安裝Python Scrapy爬蟲實作PHP爬蟲實作社群發文、留言分析社群Dashboard-視覺化呈現爬蟲應用-輿情分析、即時、非即時品牌災難應變-以啤酒代言人專案為例\n",
    "\"\"\"\n",
    "\n",
    "sentence15 = \"\"\"\n",
    "1.BigData架構介紹●Hadoop生態系2.Hadoop架構介紹●HDFS●MapReduce(MR v2)開發框架●Spark開發框架3.Spark程式開發●Spark core語法介紹-RDD●DataFrame/DataSet●Spark SQL4.Hadoop資料分析●探索式分析●Hive(HQL)5.Hadoop機器學習●Spark MLlib\n",
    "\"\"\"\n"
   ]
  },
  {
   "cell_type": "markdown",
   "metadata": {},
   "source": [
    "精確模式"
   ]
  },
  {
   "cell_type": "code",
   "execution_count": 19,
   "metadata": {},
   "outputs": [
    {
     "name": "stdout",
     "output_type": "stream",
     "text": [
      "句子 1 - 模式- 精確：  \n",
      " | 系統 | 暨 | SQL |   | Server | 架構 | 簡介 | 效能 | 調校 | 輔助 | 工具 | 介紹 | 與 | 使用 | ： | 主要 | 介紹 | SQLDiag | 的 | 資料 | 蒐集 | 工具 | 資料庫 | 設計 | 與 | 效能 | 之 | 關係 | ： | 包含 | 邏輯 | 資料庫 | 設計 | 如何 | 撰寫 | 效能 | 良好 | 的 | T | - | SQL | 語法 | 索引 | 設計 | 對 | 效能 | 之 | 影響 | 鎖定 | 與 | 交易 | 管理 | 對 | 效能 | 之 | 影響 | \n",
      "\n",
      "句子 2 - 模式- 精確：  \n",
      " | 課程 | 介紹 | 介紹 | 串流 | 資料 | 的 | 處理 | 使用 | Pub | / | Sub | 進行 | 無 | 伺服器 | 的 | 訊息 | 傳遞 | Dataflow |   | Streaming | 的 | 功能 | 高通 | 量 | 的 | BigQuery | 與 | BigTable |   | Streaming | 的 | 功能 | 進階 | 的 | BigQuery | 功能 | 與 | 效能 | 優化 | \n",
      "\n",
      "句子 3 - 模式- 精確：  \n",
      " | 課程 | 介紹 | 介紹 | 何謂 | 資料 | 分析 | 與 | AI | 對非 | 結構化 | 資料 | 使用 | 預 | 訓練 | 的 | 機器 | 學習 | 模型 | API | 使用 | Notebook | 進行 | 大 | 資料 | 分析 | 正式 | 環境 | 下 | 的 | 機器 | 學習 | 管線 | 使用 | SQL | 在 | BigQuery |   | ML | 建立 | 客製 | 模型 | 使用 | Vertex |   | AI |   | AutoML | 建立 | 客製 | 模型 | \n",
      "\n",
      "句子 4 - 模式- 精確：  \n",
      " | 設計 | 機器 | 學習 | 專案 | 的 | 資料 | 擷取 | 策略 | • |   |   |   |   |   |   | 了解 | 如何 | 設計 | 資料 | 擷取 | 解決 | 方案 | ， | 以 | 定型 | 機器 | 學習 | 專案 | 中所 | 使用 | 的 | 資料 | • |   |   |   |   |   |   | 識別 | 您 | 的 | 資料 | 來源 | 和 | 格式 | • |   |   |   |   |   |   | 選擇 | 如何 | 將 | 資料 | 提供給 | 機器 | 學習 | 的 | 工作 | 流程 | • |   |   |   |   |   |   | 設計 | 資料 | 擷取 | 解決 | 方案 | 設計 | 機器 | 學習 | 模型 | 定型 | 解決 | 方案 | • |   |   |   |   |   |   | 了解 | 如何 | 設計 | 機器 | 學習 | 專案 | 的 | 模型 | 定型 | 解決 | 方案 | • |   |   |   |   |   |   | 識别 | 機器 | 學習 | 工作 | • |   |   |   |   |   |   | 選擇 | 服務 | 來 | 定型 | 模型 | • |   |   |   |   |   |   | 選擇 | 計算 | 選項 | 設計 | 模型 | 部署 | 解決 | 方案 | • |   |   |   |   |   |   | 了解 | 如何 | 設計 | 模型 | 部署 | 解決 | 方案 | ， | 以及 | 已 | 部署 | 模型 | 的 | 需求 | 如何 | 影響 | 定型 | 模型 | 的 | 方式 | • |   |   |   |   |   |   | 了解 | 如何 | 取用 | 模型 | • |   |   |   |   |   |   | 決定 | 是否 | 要將 | 模型 | 部署 | 至 | 即將 | 或 | 批次 | 端點 | 探索 | Azure |   | Machine |   | Learning | 工作 | 區 | 資源 | 和 | 資產 | • |   |   |   |   |   |   | 身為 | 數據 | 科學家 | ， | 您 | 可以 | 使用 | Azure |   | Machine |   | Learning | 來 | 定型 | 和 | 管理 | 機器 | 學習 | 模型 | 。 | 了解 | 什麼 | 是 | Azure |   | Machine |   | Learning | ， | 並 | 熟悉 | 其所 | 有 | 資源 | 和 | 資產 | • |   |   |   |   |   |   | 建立 | Azure |   | Machine |   | Learning | 工作 | 區 | • |   |   |   |   |   |   | 識別 | 資源 | 和 | 資產 | • |   |   |   |   |   |   | 在 | 工作 | 區中 | 定型 | 模型 | 探索 | 工作 | 區 | 互動 | 的 | 開發 | 人員 | 工具 | • |   |   |   |   |   |   | 了解 | 如何 | 與 | Azure |   | Machine |   | Learning | 工作 | 區 | 互動 | 。 | 您 | 可以 | 使用 | Azure |   | Machine |   | Learning | 工作室 | 、 | Python |   | SDK | ( | v2 | ) | 或 | Azure |   | CLI | ( | v2 | ) | • |   |   |   |   |   |   | Azure |   | Machine |   | Learning | 工作室 | • |   |   |   |   |   |   | Python | 軟體 | 發展 | 工具組 | ( | SDK | ) | • |   |   |   |   |   |   | Azure | 命令 | 列 | 介面 | ( | CLI | ) | 微軟 | 最 | 新 | 財報 | 出爐 | ， | Azure | 營收 | 成長 | 50% | ！ | 想要 | 跨入 | 雲端 | 領域 | ， | 取得 | 最夯 | 的 | Azure | 認證 | 該 | 如何 | 準備 | ? | \n",
      "\n",
      "句子 5 - 模式- 精確：  \n",
      " | 課程 | 簡介 | 使用 | SQL | 指令 | 對 | 資料 | 進行 | 分群 | 與 | 彙總 | 階層 | 式 | 查詢 | 使用 | 正規 | 表示 | 式 | 使用 | SQL | 指令 | 分析 | 資料 | 進行 | Pivot | / | Unpivot | 操作 | 使用 | SQL | 指令 | 進行 | 樣式 | 比對 | 使用 | SQL | 指定 | 對 | 資料 | 進行 | Model | 操作 | \n",
      "\n",
      "句子 6 - 模式- 精確：  \n",
      " | 資料庫 | 設計 | 概論 | ： | 說明 | 資料庫 | 設計 | 的 | 重要性 | ， | 以及 | 何謂 | 資料庫 | 設計 | ， | 如何 | 設計 | 資料庫 | 設計 | 方法論 | ： | 資料庫 | 設計 | 的 | 方式 | 很多 | ， | 了解 | 各種 | 可 | 完成 | 資料庫 | 設計 | 的 | 方法 | 使用 | 者 | 需求 | 分析 | ： | 由 | 各種 | 不同 | 的 | 方法 | ， | 找出 | 使用 | 者 | 真正 | 的 | 需求 | ， | 並且 | 記錄 | 這些 | 需求 | ， | 至於 | 如何 | 找出 | 使用 | 者 | 的 | 需求 | ， | 也 | 有 | 所謂 | 的 | 方法論 | 資料庫 | 的 | 實體 | 與 | 屬性 | 的 | 轉換 | ： | 如何 | 將 | 使用 | 者 | 需求 | 轉換成 | 實體 | 以及 | 屬性 | 資料庫 | 正規 | 化 | ： | 資料庫 | 要 | 透過 | 正規 | 化 | 才能 | 讓 | 您 | 的 | 資料庫 | 和 | 大多數 | 其 | 他人 | 設計 | 的 | 一樣 | ， | 如何 | 確定 | 您 | 的 | 資料庫 | 有沒有 | 達到 | 正規 | 化 | ， | 也 | 有 | 一定 | 的 | 方法論 | 設計 | 後 | 的 | 檢討 | 與 | 修改 | ： | 資料庫 | 設計 | 後 | 的 | 結果 | 必須 | 核對 | 是否 | 符合 | 情境 | ， | 以及 | 考慮 | 效能 | 方面 | 問題 | 案例 | 分析 | ： | 提供 | 案例 | 供 | 學員 | 分析 | 參考 | ， | 從 | 參考 | 其 | 他人 | 的 | 設計 | 結果 | 更加 | 融入 | 資料庫 | 設計 | 的 | 環境 | 中 | \n",
      "\n",
      "句子 7 - 模式- 精確：  \n",
      " | ChatGPT | 簡介 | 和 | 基本 | 原理 | ChatGPT |   | x |   | Excel | 公式 | 的 | 應用 | ChatGPT |   | x |   | Excel | 函數 | 的 | 應用 | ChatGPT |   | x |   | Excel | 功能 | 的 | 應用 | ChatGPT |   | x |   | Excel | 巨集 | 的 | 應用 | \n",
      "\n",
      "句子 8 - 模式- 精確：  \n",
      " | Power |   | BI | 產品 | 組合 | 介紹 | Power |   | BI |   | Desktop | 的 | 下載 | 與 | 安裝 | Power |   | BI |   | Desktop | 資料 | 的 | 匯入 | 不同 | 資料 | 格式 | 的 | 匯入 | 及 | 合併 | 彙整 | 資料夾 | 中多個 | 相同 | 格式 | 的 | 資料檔 | 資料 | 的 | 清理 | 、 | 淨化 | 、 | 重塑 | 及 | 轉換 | 資料表 | 間 | 的 | 合併 | 及 | 附加 | 處理 | 查詢 | 步驟 | 的 | 組態 | 與 | 調整 | 查詢 | 的 | 複製 | 、 | 重複 | 及 | 參照 | 資料 | 錯誤 | 的 | 解決 | 與 | 處理 | Power |   | BI |   | Desktop | 資料 | 建模 | 與 | 管理組 | 態及 | 優化 | 資料表 | 間 | 的 | 關聯性 | 強化 | 資料 | 模型 | 中 | 的 | 計算 | 邏輯 | 與 | 格式 | DAX | 語法 | 說明 | 及 | 各類 | 函數 | 的 | 使用 | 利用 | DAX | 公式 | 建立 | 資料表 | 、 | 量值 | 及 | 資料 | 行 | ， | 以 | 豐富 | 資料 | 模型 | 的 | 處理 | Power |   | BI |   | Desktop | 範本 | 檔 | 的 | 建立 | Power |   | BI |   | Desktop | 互動式 | 視覺化 | 報表 | 的 | 建立 | 建立 | 豐富 | 的 | 互動式 | 視覺化 | 儀表板 | 多種 | 視覺化 | 效果 | ( | 卡片 | 、 | 表格 | 、 | 量測 | 計 | 、 | 矩陣 | 、 | 長 | 條圖 | 、 | 組合 | 圖 |   | ...... | ) | 的 | 運用 | 搭配 | 介紹 | 各項 | 視覺化 | 效果 | 的 | 細部 | 組態 | 視覺化 | 效果 | 的 | 進階 | 分析 | 設定 | 使用 | 書籤 | 串連 | 數據 | 解析 | 及 | 建立 | 故事 | 自訂 | 視覺化 | 效果 | 的 | 匯入 | 及 | 運用 | 發佈 | Power |   | BI |   | Desktop | 報表 | 至 | Power |   | BI | 服務 | 使用 | 手機 | 進行 | 報表 | 的 | 互動式 | 資料 | 探索 | 將 | 製作 | 的 | 報表 | 匯出 | 至 | PDF | \n",
      "\n",
      "句子 9 - 模式- 精確：  \n",
      " | 1 | . | AI | 下 | 一 | 世代 | ： | ChatGPT | 的 | 崛起 | ● |   | 自然 | 語言 | 處理 | 、 | 自然 | 語言 | 理解 | 和 | 自然 | 語言 | 生成 | 2 | . | 文字 | 資料 | 採集 | ● |   | 深入 | Python | 爬蟲 | Crawler | 框架 | 和 | MongoDB | 非 | 結構化 | 資料庫 | 建構 | ● |   | 收集 | 巨量 | 資料集 | ， | 並 | 進行 | 文字 | 資料 | 清洗 | 3 | . | 機器 | 學習 | 快速 | 上手 | ● |   | 決策 | 樹 | （ | Decision |   | Tree | ） | 、 | 隨機 | 森林 | （ | Random |   | Forest | ） | 和 | 梯度 | 下降 | （ | Gradient |   | Descent | ） | 4 | . | 機率 | 生成 | 模型 | 與 | 分類 | 模型 | ● |   | 貝氏 | 分類 | （ | Bayesian |   | Classification | ） | 在 | 中文 | 語意 | 的 | 應用 | 場景 | 5 | . | 關聯 | 字詞 | 模型 | 訓練 | ● |   | 中文 | 斷詞 | 、 | 斷句 | 和 | 詞彙 | Tokenization | ， | 實作 | Word2Vec | 、 | Doc2Vec | 、 | Ckip | 和 | Transformers6 | . | 文章 | 分類 | 模型 | 訓練 | ● |   | 詞袋 | 模型 | （ | Bag |   | of |   | Words | ） | 、 | TF | - | IDF | 詞頻 | 分類 | 法 | 、 | Naive |   | Bayes | 分類 | 器 | 和 | XGBoost | 分類 | 器 | 7 | . | 情感 | 分析 | 模型 | 訓練 | ● |   | Fine | - | tuning |   | HuggingFace | 上 | 的 | 模型 | 於 | 中文 | 長短 | 句 | 的 | 正負面 | 機率 | ● |   | 使用 | Google |   | Play |   | Store | 留言 | ， | 實作 | Keras | / | Tensorflow |   | RNN | 情感 | 程度 | 模型 | 訓練 | 8 | . | 暱稱 | / | 姓名 | 預測 | 性別 | 男女 | 模型 | ● |   | 訓練 | 中 | 、 | 英文 | 姓名 | 男女 | 分類 | 判別 | ● |   | 建立 | 文字 | 檔案 | 以 | 查找 | 分群 | 的 | 標籤 | 9 | . | 自然 | 語言 | 處理 | 個案 | 研究 | ● |   | 中文 | 姓名 | 預測 | API | ， | 以 | Python |   | Flask | 為例 | ● |   | 自然 | 語言 | 文章 | 分類 | 在 | 廣告 | 標籤 | 投放 | 的 | 應用 | ● |   | Facebook | / | Instagram | 留言 | 探針 | 時刻 | 監測 | 品牌 | 危機 | ● |   | 留言 | 情感 | 分析 | 在 | 品牌 | 策略 | 操作 | 上 | 的 | 處理 | ● |   | PTT | 新聞 | 摘要 | 與 | 關聯 | 10 | . | 如何 | 微調 | ChatGPT | 模型 | ， | 讓 | 它 | 認識 | 你 | 的 | 產業 | 知識 | ? | ● |   | 通用 | 人工 | 智慧 |   | ( | Artificial |   | General |   | Intelligence | ) | ● |   | 大型 | 語言 | 模型 | ( | LLM | ) | 需要 | 準備 | 的 | 資料集 | 指引 | ， | 套用 | 自己 | 的 | 資料集 | ● |   | 從 | ChatGPT |   | 4 | 前往 | Llama |   | 2 | 實作 | 遷移 | 式 | 學習 | ● |   | 微調 | ( | Fine | - | tuning | ) |   | OpenAI |   | 模型 | ， | 提供 | 問答 | 助手 | 11 | . | 延伸 | 大 | 語言 | 模型 |   | ( | LLM | ) |   | 擴增 | ( | RAG | ) |   | 知識 | ● |   | 結合 | 知識 | 檢索 | 的 |   | OpenAI |   | 生成 | 技術 | ● |   | 提示 | 詞 | 工程 | ( | Prompt |   | Engineering | ) |   | 使用 |   | LangChain |   | 與 |   | LlamaIndex | ● |   | 事實 | 查核 | 避免 |   | AI |   | 幻想 |   | ( | Fact | - | checking |   | of |   | ChatGPT |   | and |   | LLMs | ) | ● |   | 部署 | 地端 | 大型 | 語言 | 模型 |   | ( | GGUF | ) | \n",
      "\n",
      "句子 10 - 模式- 精確：  \n",
      " | Python | 的 | 環境 | 安裝 | 與 | IDE | 設定 | Python | 與 | 物件 | 導向 | Python | 與 | IPython |   | NotebookPython | 與 | 地圖 | 的 | 處理 | Python | 與 | 地理 | 位置 | 的 | 編碼 | Python | 與 | Excel | 的 | 連結 | 使用 | Scipy | 處理 | 資料 | Python | 與 | Wiki | 的 | 資料 | 存取 | Python | 與 | 背景 | 狀態 | 的 | 更新 | Python | 與 | 圖 | 的 | 處理 | Python | 與 | 資料 | 分析 | Python | 的 | ORM | 與 | SQL |   | Server | 的 | 連結 | Python | 與 | Apache |   | Spark | 的 | 結合 | \n",
      "\n",
      "句子 11 - 模式- 精確：  \n",
      " | 簡介 | Spring |   | Framework |   | 5Spring |   | 元件 | 與 | IoC | 容器 | Spring |   | BootDependency |   | InjectionSpring |   | AOP | ( | Aspect |   | Oriented |   | Programming | ) | Spring | 整合 | 資料庫 | 交易 | 控管 | Spring |   | Data |   | JPASpring | 整合 | MongoDBSpring | 與 | 訊息 | ( | Message | ) | 整合 | Spring |   | Web |   | MVCSpring |   | SecuritySpring |   | Batch | \n",
      "\n",
      "句子 12 - 模式- 精確：  \n",
      " | Angular |   | 7 | 簡介 | Java |   | EE |   | 8 | 簡介 | CDI | ( | Context |   | and |   | Dependency |   | Injection | ) | EJB |   | LiteJPA | ( | Java |   | Persistence |   | API | ) | Microservice | 與 | MicroProfileJSON | - | PJSON | - | BJAX | - | RS | 開發 | Restful |   | Web |   | ServiceMVC |   | Pattern | 前端 | MVC | 框架 | 與 | 後台 | MVC | 框架 | 比較 | TypeScript | 基礎 | Angular |   | CLIAngular | 基礎 | Angular |   | Data |   | BindingAngular | 表單 | Angular | 呼叫 | Restful |   | Web |   | ServiceSecurity | \n",
      "\n",
      "句子 13 - 模式- 精確：  \n",
      " | 介紹 | Microsoft |   | Power |   | Platform | 的 | 商業 | 價值 | 認識 | Power |   | Platform | 所 | 提供 | 的 | 基礎 | 組件 | 如何 | 開始 | 使用 | Power |   | Apps | 來 | 設計 | 自訂 | 的 | 應用 | 程式 | 如何 | 開始 | 使用 | Power |   | Automate | 來 | 設計 | 所 | 需 | 的 | 自動化 | 流程 | 介紹 | Power |   | BI | 的 | 能力 | 介紹 | Power |   | Platform | 附加 | 的 | 解決 | 方案 | Microsoft |   | 365 | 整合 | 應用 | 透過 | Excel |   | 365 | 產出 | QR |   | Code | 圖片 | \n",
      "\n",
      "句子 14 - 模式- 精確：  \n",
      " | 社群 | 網路 | - |   | Social |   | Network | 爬蟲 | 技術 | ， | 採集 | 、 | 清洗 | 、 | 儲存 | 、 | 運算 | Python | , |   | MongoDB | , |   | PHP | , |   | Apache | 環境 | 準備 | 與 | 安裝 | Python |   | Scrapy | 爬蟲 | 實作 | PHP | 爬蟲 | 實作 | 社群 | 發文 | 、 | 留言 | 分析 | 社群 | Dashboard | - | 視覺化 | 呈現 | 爬蟲 | 應用 | - | 輿情 | 分析 | 、 | 即時 | 、 | 非 | 即時 | 品牌 | 災難 | 應變 | - | 以 | 啤酒 | 代言人 | 專案 | 為例 | \n",
      "\n",
      "句子 15 - 模式- 精確：  \n",
      " | 1 | . | BigData | 架構 | 介紹 | ● | Hadoop | 生態系 | 2 | . | Hadoop | 架構 | 介紹 | ● | HDFS | ● | MapReduce | ( | MR |   | v2 | ) | 開發 | 框架 | ● | Spark | 開發 | 框架 | 3 | . | Spark | 程式 | 開發 | ● | Spark |   | core | 語法 | 介紹 | - | RDD | ● | DataFrame | / | DataSet | ● | Spark |   | SQL4 | . | Hadoop | 資料 | 分析 | ● | 探索 | 式 | 分析 | ● | Hive | ( | HQL | ) | 5 | . | Hadoop | 機器 | 學習 | ● | Spark |   | MLlib | \n",
      "\n"
     ]
    }
   ],
   "source": [
    "for i, sentence in enumerate([sentence.format(i) for i in range(1, 16)], start=1):\n",
    "    s2_list = jieba.cut(sentence, cut_all=False)\n",
    "    print('模式- 精確： ', ' | '.join(s2_list))\n"
   ]
  }
 ],
 "metadata": {
  "kernelspec": {
   "display_name": "Python 3",
   "language": "python",
   "name": "python3"
  },
  "language_info": {
   "codemirror_mode": {
    "name": "ipython",
    "version": 3
   },
   "file_extension": ".py",
   "mimetype": "text/x-python",
   "name": "python",
   "nbconvert_exporter": "python",
   "pygments_lexer": "ipython3",
   "version": "3.12.4"
  }
 },
 "nbformat": 4,
 "nbformat_minor": 2
}
