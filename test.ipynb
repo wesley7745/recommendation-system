{
 "cells": [
  {
   "cell_type": "markdown",
   "metadata": {},
   "source": [
    "### 全模式\n",
    "1. 在Jieba模組裡，只要將cut_all 參數設定為True，即為全模式。\n",
    "2. 全模式可以非常快的把句子中所有可以成為詞的詞語都掃描出來。但缺點是不能解決歧義。"
   ]
  },
  {
   "cell_type": "markdown",
   "metadata": {},
   "source": [
    "### 精確模式\n",
    "1. 若將cut_all 參數設定為False的話，即為精確模式 cut(cut_all=False)。精確模式，試圖將句子做最精確地切割斷詞，適合於文本分析。\n",
    "2. 此外，cut_all這個參數若沒有設定的話，得到的結果會跟精確模式一樣，這種狀況又被稱之為「預設模式」。"
   ]
  },
  {
   "cell_type": "markdown",
   "metadata": {},
   "source": [
    "### 搜尋引擎模式\n",
    "搜尋引擎模式，係在精確模式的基礎上，對長詞進行再次切分，目的是要提高召回率。這種模式適合用於搜索引擎分詞。"
   ]
  },
  {
   "cell_type": "code",
   "execution_count": 22,
   "metadata": {},
   "outputs": [
    {
     "name": "stderr",
     "output_type": "stream",
     "text": [
      "Building prefix dict from c:\\Users\\WCHuang8\\Desktop\\學習推薦系統專案\\JIEBA\\custom_dict.txt ...\n",
      "Loading model from cache C:\\Users\\WCHuang8\\AppData\\Local\\Temp\\jieba.uc497d64b5b403a32e6365cd74728a1e1.cache\n",
      "Loading model cost 0.007 seconds.\n",
      "Prefix dict has been built successfully.\n"
     ]
    },
    {
     "name": "stdout",
     "output_type": "stream",
     "text": [
      "模式- 全  ：  我 | 去 | 華邦電子 | 實 | 習\n",
      "模式- 精確：  我 | 去 | 華邦電子 | 實習\n",
      "模式- 搜尋：  我 | 去 | 華邦電子 | 實習\n"
     ]
    }
   ],
   "source": [
    "import jieba\n",
    "\n",
    "\n",
    "## 全模式\n",
    "s1_list = jieba.cut('我去華邦電子實習', cut_all =True)\n",
    "print('模式- 全  ： ', ' | '.join(s1_list))\n",
    "\n",
    "## 精確模式\n",
    "s2_list = jieba.cut('我去華邦電子實習', cut_all =False)\n",
    "print('模式- 精確： ', ' | '.join(s2_list))\n",
    "\n",
    "## 搜尋引擎模式\n",
    "s3_list = jieba.cut_for_search('我去華邦電子實習')\n",
    "print('模式- 搜尋： ', ' | '.join(s3_list))"
   ]
  },
  {
   "cell_type": "code",
   "execution_count": 21,
   "metadata": {},
   "outputs": [],
   "source": [
    "jieba.set_dictionary('custom_dict.txt')\n",
    "# jieba.set_dictionary('custom_dict - Copy.txt')"
   ]
  },
  {
   "cell_type": "code",
   "execution_count": null,
   "metadata": {},
   "outputs": [],
   "source": [
    "jieba.add_word('華邦電子')"
   ]
  },
  {
   "cell_type": "code",
   "execution_count": 5,
   "metadata": {},
   "outputs": [],
   "source": [
    "jieba.initialize()"
   ]
  },
  {
   "cell_type": "markdown",
   "metadata": {},
   "source": [
    "## 網路流行詞彙"
   ]
  },
  {
   "cell_type": "code",
   "execution_count": 33,
   "metadata": {},
   "outputs": [
    {
     "name": "stdout",
     "output_type": "stream",
     "text": [
      "模式- 全  ：  他 | 很 | 愛 | 講 | 超派 | 派對 | 不 | 對\n",
      "模式- 精確：  他 | 很 | 愛講 | 超派 | 對 | 不 | 對\n",
      "模式- 搜尋：  他 | 很 | 愛講 | 超派 | 對 | 不 | 對\n"
     ]
    }
   ],
   "source": [
    "import jieba\n",
    "\n",
    "\n",
    "## 全模式\n",
    "s1_list = jieba.cut('他很愛講超派對不對', cut_all =True)\n",
    "print('模式- 全  ： ', ' | '.join(s1_list))\n",
    "\n",
    "## 精確模式\n",
    "s2_list = jieba.cut('他很愛講超派對不對', cut_all =False)\n",
    "print('模式- 精確： ', ' | '.join(s2_list))\n",
    "\n",
    "## 搜尋引擎模式\n",
    "s3_list = jieba.cut_for_search('他很愛講超派對不對')\n",
    "print('模式- 搜尋： ', ' | '.join(s3_list))"
   ]
  },
  {
   "cell_type": "code",
   "execution_count": 32,
   "metadata": {},
   "outputs": [],
   "source": [
    "# 添加詞語\n",
    "# jieba.add_word(\"超派\", freq=None, tag=None)\n",
    "jieba.add_word(\"超派\", freq=10000, tag=None)\n",
    "\n",
    "# 刪除詞語\n",
    "# jieba.del_word(\"超派\")"
   ]
  },
  {
   "cell_type": "code",
   "execution_count": 28,
   "metadata": {},
   "outputs": [],
   "source": [
    "# 刪除可能干擾的詞語\n",
    "jieba.del_word(\"愛講超\")"
   ]
  },
  {
   "cell_type": "markdown",
   "metadata": {},
   "source": [
    "## 長文應用示例"
   ]
  },
  {
   "cell_type": "code",
   "execution_count": 46,
   "metadata": {},
   "outputs": [],
   "source": [
    "jieba.set_dictionary('dict.txt')\n",
    "\n",
    "# 停用自定義詞典，恢復預設詞典\n",
    "# jieba.initialize()"
   ]
  },
  {
   "cell_type": "code",
   "execution_count": 10,
   "metadata": {},
   "outputs": [
    {
     "name": "stdout",
     "output_type": "stream",
     "text": [
      "模式- 全  ：   | \n",
      " |  | 蘇貞昌 | 表示 | ， | 春節 | 期間 | 中國 | 武漢 | 肺炎 | 疫情 | 情急 | 急遽 | 遽升 | 升高 | ， | 他 | 在 | 年假 | 第一天 | 就 | 到 | 中央 | 流行 | 疫情 | 指揮 | 揮中 | 中心 | 聽取 | 簡報 | ， | \n",
      " |  | 並 | 宣布 | 提升 | 提升到 | 升到 | 二級 | 開設 | 。 | 年假 | 假期 | 期間 | ， | 衛福 | 衛福部 | 福部 | 及 | 相關 | 相關機 | 關機 | 機關 | 幾乎 | 都 | 放棄 | 休假 | ， | 每天 | 監控 | 及 | 因應 | 各 | 項 | 疫情 | ， | \n",
      " |  | 並 | 宣布 | 布防 | 防疫 | 資源 | 整備 | 情形 | 及 | 最新 | 防疫 | 作為 | ， | 隨時 | 讓 | 國人 | 瞭解 | 最新 | 疫情 | 發展 | 。 | 因為 | 資訊 | 透明 | ， | 應變 | 迅速 | ， | \n",
      " |  | 讓 | 國人 | 感受 | 感受到 | 受到 | 「 | 有 | 政府 | ， | 可 | 放心 | 」， | 感謝 | 陳其邁 | 副院長 | 院長 | 費心 | 督導 | ， | 對於 | 年假 | 假期 | 期間 | 各 | 防疫 | 機關 | 關人 | 人員 | 的 | 堅守 | 崗位 | ， | \n",
      " |  | 也 | 表示 | 肯定 | 與 | 感謝 | 。 | \n",
      " | \n",
      "模式- 精確：  \n",
      " | 蘇貞昌 | 表示 | ， | 春節 | 期間 | 中國 | 武漢 | 肺炎 | 疫情 | 急遽 | 升高 | ， | 他 | 在 | 年假 | 第一天 | 就 | 到 | 中央 | 流行 | 疫情 | 指揮 | 中心 | 聽取 | 簡報 | ， | \n",
      " | 並 | 宣布 | 提升到 | 二級 | 開設 | 。 | 年假 | 期間 | ， | 衛福部 | 及 | 相關 | 機關 | 幾乎 | 都 | 放棄 | 休假 | ， | 每天 | 監控 | 及 | 因應 | 各項 | 疫情 | ， | \n",
      " | 並 | 宣布 | 防疫 | 資源 | 整備 | 情形 | 及 | 最 | 新 | 防疫 | 作為 | ， | 隨時 | 讓 | 國人 | 瞭解 | 最 | 新 | 疫情 | 發展 | 。 | 因為 | 資訊 | 透明 | ， | 應變 | 迅速 | ， | \n",
      " | 讓 | 國人 | 感受到 | 「 | 有 | 政府 | ， | 可 | 放心 | 」 | ， | 感謝 | 陳其邁 | 副院長 | 費心 | 督導 | ， | 對於 | 年假 | 期間 | 各 | 防疫 | 機關 | 人員 | 的 | 堅守 | 崗位 | ， | \n",
      " | 也 | 表示 | 肯定 | 與 | 感謝 | 。 | \n",
      "\n",
      "模式- 搜尋：  \n",
      " | 蘇貞昌 | 表示 | ， | 春節 | 期間 | 中國 | 武漢 | 肺炎 | 疫情 | 急遽 | 升高 | ， | 他 | 在 | 年假 | 第一天 | 就 | 到 | 中央 | 流行 | 疫情 | 指揮 | 中心 | 聽取 | 簡報 | ， | \n",
      " | 並 | 宣布 | 提升 | 升到 | 提升到 | 二級 | 開設 | 。 | 年假 | 期間 | ， | 衛福 | 福部 | 衛福部 | 及 | 相關 | 機關 | 幾乎 | 都 | 放棄 | 休假 | ， | 每天 | 監控 | 及 | 因應 | 各項 | 疫情 | ， | \n",
      " | 並 | 宣布 | 防疫 | 資源 | 整備 | 情形 | 及 | 最 | 新 | 防疫 | 作為 | ， | 隨時 | 讓 | 國人 | 瞭解 | 最 | 新 | 疫情 | 發展 | 。 | 因為 | 資訊 | 透明 | ， | 應變 | 迅速 | ， | \n",
      " | 讓 | 國人 | 感受 | 受到 | 感受到 | 「 | 有 | 政府 | ， | 可 | 放心 | 」 | ， | 感謝 | 陳其邁 | 院長 | 副院長 | 費心 | 督導 | ， | 對於 | 年假 | 期間 | 各 | 防疫 | 機關 | 人員 | 的 | 堅守 | 崗位 | ， | \n",
      " | 也 | 表示 | 肯定 | 與 | 感謝 | 。 | \n",
      "\n"
     ]
    }
   ],
   "source": [
    "import jieba\n",
    "\n",
    "# 待分析的文本\n",
    "sentence = \"\"\"\n",
    "蘇貞昌表示，春節期間中國武漢肺炎疫情急遽升高，他在年假第一天就到中央流行疫情指揮中心聽取簡報，\n",
    "並宣布提升到二級開設。年假期間，衛福部及相關機關幾乎都放棄休假，每天監控及因應各項疫情，\n",
    "並宣布防疫資源整備情形及最新防疫作為，隨時讓國人瞭解最新疫情發展。因為資訊透明，應變迅速，\n",
    "讓國人感受到「有政府，可放心」，感謝陳其邁副院長費心督導，對於年假期間各防疫機關人員的堅守崗位，\n",
    "也表示肯定與感謝。\n",
    "\"\"\"\n",
    "\n",
    "# 全模式\n",
    "s1_list = jieba.cut(sentence, cut_all=True)\n",
    "print('模式- 全  ： ', ' | '.join(s1_list))\n",
    "  \n",
    "# 精確模式\n",
    "s2_list = jieba.cut(sentence, cut_all=False)\n",
    "print('模式- 精確： ', ' | '.join(s2_list))\n",
    "\n",
    "# 搜尋引擎模式\n",
    "s3_list = jieba.cut_for_search(sentence)\n",
    "print('模式- 搜尋： ', ' | '.join(s3_list))\n"
   ]
  },
  {
   "cell_type": "code",
   "execution_count": 11,
   "metadata": {},
   "outputs": [
    {
     "name": "stdout",
     "output_type": "stream",
     "text": [
      "正確率: 96.05%\n"
     ]
    }
   ],
   "source": [
    "def calculate_accuracy(correct_segmentation, test_segmentation):\n",
    "    # 將正確斷詞結果和測試斷詞結果轉換為集合\n",
    "    correct_set = set(correct_segmentation.split(' / '))\n",
    "    test_set = set(test_segmentation.split(' | '))\n",
    "\n",
    "    # 計算正確識別的詞語數量\n",
    "    correct_count = len(correct_set & test_set)\n",
    "\n",
    "    # 計算正確率\n",
    "    accuracy = correct_count / len(correct_set)\n",
    "    return accuracy\n",
    "\n",
    "# 正確的斷詞結果\n",
    "correct_segmentation = \"蘇貞昌 / 表示 / ， / 春節 / 期間 / 新冠 / 肺炎 / 疫情 / 急遽 / 升高 / ， / 他 / 在 / 年假 / 第一天 / 就 / 到 / 中央 / 流行 / 疫情 / 指揮中心 / 聽取 / 簡報 / ， / 並 / 宣布 / 提升 / 到 / 二級 / 開設 / 。 / 年假 / 期間 / ， / 衛福部 / 及 / 相關 / 機關 / 幾乎 / 都 / 放棄 / 休假 / ， / 每天 / 監控 / 及 / 因應 / 各項 / 疫情 / ， / 並 / 宣布 / 防疫 / 資源 / 整備 / 情形 / 及 / 最新 / 防疫 / 作為 / ， / 隨時 / 讓 / 國人 / 瞭解 / 最新 / 疫情 / 發展 / 。 / 因為 / 資訊 / 透明 / ， / 應變 / 迅速 / ， / 讓 / 國人 / 感受到 / 「 / 有 / 政府 / ， / 可 / 放心 / 」 / ， / 感謝 / 陳其邁 / 副院長 / 費心 / 督導 / ， / 對於 / 年假 / 期間 / 各 / 防疫 / 機關 / 人員 / 的 / 堅守 / 崗位 / ， / 也 / 表示 / 肯定 / 與 / 感謝 / 。\"\n",
    "\n",
    "# 測試的斷詞結果\n",
    "test_segmentation = \"蘇貞昌 | 表示 | ， | 春節 | 期間 | 中國 | 武漢 | 肺炎 | 疫情 | 急遽 | 升高 | ， | 他 | 在 | 年假 | 第一天 | 就 | 到 | 中央 | 流行 | 疫情 | 指揮 | 中心 | 聽取 | 簡報 | ， | 並 | 宣布 | 提升 | 升到 | 提升到 | 二級 | 開設 | 。 | 年假 | 期間 | ， | 衛福 | 福部 | 衛福部 | 及 | 相關 | 機關 | 幾乎 | 都 | 放棄 | 休假 | ， | 每天 | 監控 | 及 | 因應 | 各項 | 疫情 | ，  | 並 | 宣布 | 防疫 | 資源 | 整備 | 情形 | 及 | 最 | 新 | 防疫 | 作為 | ， | 隨時 | 讓 | 國人 | 瞭解 | 最 | 新 | 疫情 | 發展 | 。 | 因為 | 資訊 | 透明 | ， | 應變 | 迅速 | ，  | 讓 | 國人 | 感受 | 受到 | 感受到 | 「 | 有 | 政府 | ， | 可 | 放心 | 」 | ， | 感謝 | 陳其邁 | 院長 | 副院長 | 費心 | 督導 | ， | 對於 | 年假 | 期間 | 各 | 防疫 | 機關 | 人員 | 的 | 堅守 | 崗位 | ，  | 也 | 表示 | 肯定 | 與 | 感謝 | 。\"\n",
    "\n",
    "# 計算正確率\n",
    "accuracy = calculate_accuracy(correct_segmentation, test_segmentation)\n",
    "print(f\"正確率: {accuracy * 100:.2f}%\")\n"
   ]
  },
  {
   "cell_type": "code",
   "execution_count": 23,
   "metadata": {},
   "outputs": [
    {
     "name": "stdout",
     "output_type": "stream",
     "text": [
      "Keyword: 招聘, Score: 0.547996624351191\n",
      "Keyword: 活動, Score: 0.2191986497404764\n",
      "Keyword: 選人, Score: 0.2191986497404764\n",
      "Keyword: 面試, Score: 0.2191986497404764\n",
      "Keyword: 候選人, Score: 0.1643989873053573\n",
      "Keyword: 公司, Score: 0.1643989873053573\n",
      "Keyword: 名候, Score: 0.1643989873053573\n",
      "Keyword: 計劃, Score: 0.1643989873053573\n",
      "Keyword: 50, Score: 0.1095993248702382\n",
      "Keyword: 優化, Score: 0.1095993248702382\n"
     ]
    }
   ],
   "source": [
    "import jieba\n",
    "from sklearn.feature_extraction.text import TfidfVectorizer\n",
    "\n",
    "# 週報內容\n",
    "report = \"\"\"\n",
    "一、本週主要活動\n",
    "\n",
    "1. 招聘活動\n",
    "   - 舉辦了兩場線上招聘會，共計吸引了120名候選人參加。\n",
    "   - 參加了當地的大學校園招聘活動，面試了50名畢業生。\n",
    "\n",
    "2. 候選人篩選\n",
    "   - 初步篩選了300份簡歷，選出50名合適的候選人進入下一輪面試。\n",
    "   - 與技術部門協調進行了20場技術面試。\n",
    "\n",
    "3. 錄用決策\n",
    "   - 確定了10名候選人進入最終面試階段。\n",
    "   - 發放了5份正式錄用通知書，並得到了3名候選人的接受回覆。\n",
    "\n",
    "二、本週進展\n",
    "\n",
    "1. 招聘流程優化\n",
    "   - 完成了招聘流程的優化方案，減少了簡歷篩選和面試安排的時間。\n",
    "   - 實施了新的面試反饋機制，確保所有候選人在面試後能夠及時得到反饋。\n",
    "\n",
    "2. 員工培訓\n",
    "   - 安排了3場新員工入職培訓，幫助新員工快速融入公司。\n",
    "   - 舉辦了2場招聘團隊內部培訓，提升團隊的招聘技能和效率。\n",
    "\n",
    "三、未來計劃\n",
    "\n",
    "1. 加強品牌宣傳\n",
    "   - 計劃在社交媒體平台上進行更多的品牌宣傳活動，吸引更多優秀的候選人。\n",
    "   - 準備製作新的招聘宣傳視頻，展示公司文化和工作環境。\n",
    "\n",
    "2. 擴大招聘渠道\n",
    "   - 計劃與更多的招聘網站和獵頭公司合作，擴大招聘渠道。\n",
    "   - 設計新的招聘廣告，增加在各大招聘平台上的曝光率。\n",
    "\"\"\"\n",
    "\n",
    "# 使用jieba進行分詞\n",
    "words = jieba.lcut(report)\n",
    "\n",
    "# 將分詞結果合併為文本\n",
    "processed_text = ' '.join(words)\n",
    "\n",
    "# 使用TF-IDF提取關鍵字\n",
    "vectorizer = TfidfVectorizer()\n",
    "tfidf_matrix = vectorizer.fit_transform([processed_text])\n",
    "feature_names = vectorizer.get_feature_names_out()\n",
    "tfidf_scores = tfidf_matrix.toarray()[0]\n",
    "\n",
    "# 提取TF-IDF分數最高的前10個關鍵字\n",
    "top_n = 10\n",
    "top_keywords = sorted(zip(feature_names, tfidf_scores), key=lambda x: x[1], reverse=True)[:top_n]\n",
    "\n",
    "# 顯示結果\n",
    "for keyword, score in top_keywords:\n",
    "    print(f\"Keyword: {keyword}, Score: {score}\")\n",
    "\n"
   ]
  }
 ],
 "metadata": {
  "kernelspec": {
   "display_name": "Python 3",
   "language": "python",
   "name": "python3"
  },
  "language_info": {
   "codemirror_mode": {
    "name": "ipython",
    "version": 3
   },
   "file_extension": ".py",
   "mimetype": "text/x-python",
   "name": "python",
   "nbconvert_exporter": "python",
   "pygments_lexer": "ipython3",
   "version": "3.12.4"
  }
 },
 "nbformat": 4,
 "nbformat_minor": 2
}
